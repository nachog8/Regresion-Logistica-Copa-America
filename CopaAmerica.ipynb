{
 "cells": [
  {
   "cell_type": "markdown",
   "metadata": {},
   "source": [
    "## **MATEMÁTICA SUPERIOR**\n",
    "### TRABAJO PRÁCTICO -  FINAL.\n",
    "***CREADOR***\n",
    "* Ignacio Javier Guridi\n",
    "* Legajo : 13506"
   ]
  },
  {
   "cell_type": "markdown",
   "metadata": {},
   "source": [
    "## Predicción de resultados de la Copa América\n",
    "Para intentar predecir los resultados de la Copa América voy a utilizar un modelo simple de Regresión Logística que adapté de Kaggle; en dónde las principales variales para predecir los resultados serán el ranking FIFA de cada equipo, el talento de sus jugadores y el historial de enfrentamientos.\n",
    "\n",
    "Los datos que utilicé los armé en base a datasets que obtuve de Kaggle y fui combinando datos para llegar a la dataset presentada. \n",
    "\n",
    "* equipos: Este dataset contiene los datos de los jugadores convocados en cada selección.\n",
    "\n",
    "* partidos: Este dataset contine el historial de partidos en que se enfrentaron las selecciones que participan de la copa.\n",
    "\n",
    "* copa: Este dataset contine la composición de los grupos de la Copa América.\n",
    "\n",
    "Comencemos con el modelo..."
   ]
  },
  {
   "cell_type": "code",
   "execution_count": 1,
   "metadata": {},
   "outputs": [],
   "source": [
    "# Importando las librerías que vamos a utilizar\n",
    "import pandas as pd\n",
    "import numpy as np\n",
    "from pandasql import sqldf\n",
    "import matplotlib.pyplot as plt\n",
    "from sklearn import linear_model\n",
    "from sklearn import ensemble\n",
    "from sklearn.model_selection import train_test_split\n",
    "from sklearn.metrics import confusion_matrix, roc_curve, roc_auc_score\n",
    "from sklearn.pipeline import Pipeline\n",
    "from sklearn.preprocessing import PolynomialFeatures\n",
    "\n",
    "#utilizar SQL para filtrar pandas df\n",
    "query = lambda q: sqldf(q, globals())\n",
    "\n",
    "# graficos incrustados\n",
    "%matplotlib inline"
   ]
  },
  {
   "cell_type": "code",
   "execution_count": 2,
   "metadata": {},
   "outputs": [
    {
     "data": {
      "text/html": [
       "<div>\n",
       "<style scoped>\n",
       "    .dataframe tbody tr th:only-of-type {\n",
       "        vertical-align: middle;\n",
       "    }\n",
       "\n",
       "    .dataframe tbody tr th {\n",
       "        vertical-align: top;\n",
       "    }\n",
       "\n",
       "    .dataframe thead th {\n",
       "        text-align: right;\n",
       "    }\n",
       "</style>\n",
       "<table border=\"1\" class=\"dataframe\">\n",
       "  <thead>\n",
       "    <tr style=\"text-align: right;\">\n",
       "      <th></th>\n",
       "      <th>equipo</th>\n",
       "      <th>grupo</th>\n",
       "      <th>titulos</th>\n",
       "      <th>subcampeonatos</th>\n",
       "      <th>ranking FIFA</th>\n",
       "    </tr>\n",
       "    <tr>\n",
       "      <th>1</th>\n",
       "      <th></th>\n",
       "      <th></th>\n",
       "      <th></th>\n",
       "      <th></th>\n",
       "      <th></th>\n",
       "    </tr>\n",
       "  </thead>\n",
       "  <tbody>\n",
       "    <tr>\n",
       "      <th>2</th>\n",
       "      <td>Brasil</td>\n",
       "      <td>A</td>\n",
       "      <td>8</td>\n",
       "      <td>11</td>\n",
       "      <td>3</td>\n",
       "    </tr>\n",
       "    <tr>\n",
       "      <th>3</th>\n",
       "      <td>Bolivia</td>\n",
       "      <td>A</td>\n",
       "      <td>1</td>\n",
       "      <td>1</td>\n",
       "      <td>63</td>\n",
       "    </tr>\n",
       "    <tr>\n",
       "      <th>4</th>\n",
       "      <td>Venezuela</td>\n",
       "      <td>A</td>\n",
       "      <td>0</td>\n",
       "      <td>0</td>\n",
       "      <td>29</td>\n",
       "    </tr>\n",
       "    <tr>\n",
       "      <th>5</th>\n",
       "      <td>Peru</td>\n",
       "      <td>A</td>\n",
       "      <td>2</td>\n",
       "      <td>0</td>\n",
       "      <td>21</td>\n",
       "    </tr>\n",
       "    <tr>\n",
       "      <th>6</th>\n",
       "      <td>Argentina</td>\n",
       "      <td>B</td>\n",
       "      <td>14</td>\n",
       "      <td>14</td>\n",
       "      <td>11</td>\n",
       "    </tr>\n",
       "    <tr>\n",
       "      <th>7</th>\n",
       "      <td>Colombia</td>\n",
       "      <td>B</td>\n",
       "      <td>1</td>\n",
       "      <td>1</td>\n",
       "      <td>12</td>\n",
       "    </tr>\n",
       "    <tr>\n",
       "      <th>8</th>\n",
       "      <td>Paraguay</td>\n",
       "      <td>B</td>\n",
       "      <td>2</td>\n",
       "      <td>6</td>\n",
       "      <td>36</td>\n",
       "    </tr>\n",
       "    <tr>\n",
       "      <th>9</th>\n",
       "      <td>Qatar</td>\n",
       "      <td>B</td>\n",
       "      <td>0</td>\n",
       "      <td>0</td>\n",
       "      <td>55</td>\n",
       "    </tr>\n",
       "    <tr>\n",
       "      <th>10</th>\n",
       "      <td>Uruguay</td>\n",
       "      <td>C</td>\n",
       "      <td>15</td>\n",
       "      <td>6</td>\n",
       "      <td>6</td>\n",
       "    </tr>\n",
       "    <tr>\n",
       "      <th>11</th>\n",
       "      <td>Ecuador</td>\n",
       "      <td>C</td>\n",
       "      <td>0</td>\n",
       "      <td>0</td>\n",
       "      <td>59</td>\n",
       "    </tr>\n",
       "    <tr>\n",
       "      <th>12</th>\n",
       "      <td>Japon</td>\n",
       "      <td>C</td>\n",
       "      <td>0</td>\n",
       "      <td>0</td>\n",
       "      <td>26</td>\n",
       "    </tr>\n",
       "    <tr>\n",
       "      <th>13</th>\n",
       "      <td>Chile</td>\n",
       "      <td>C</td>\n",
       "      <td>2</td>\n",
       "      <td>4</td>\n",
       "      <td>15</td>\n",
       "    </tr>\n",
       "  </tbody>\n",
       "</table>\n",
       "</div>"
      ],
      "text/plain": [
       "       equipo grupo  titulos  subcampeonatos  ranking FIFA\n",
       "1                                                         \n",
       "2      Brasil     A        8              11             3\n",
       "3     Bolivia     A        1               1            63\n",
       "4   Venezuela     A        0               0            29\n",
       "5        Peru     A        2               0            21\n",
       "6   Argentina     B       14              14            11\n",
       "7    Colombia     B        1               1            12\n",
       "8    Paraguay     B        2               6            36\n",
       "9       Qatar     B        0               0            55\n",
       "10    Uruguay     C       15               6             6\n",
       "11    Ecuador     C        0               0            59\n",
       "12      Japon     C        0               0            26\n",
       "13      Chile     C        2               4            15"
      ]
     },
     "execution_count": 2,
     "metadata": {},
     "output_type": "execute_result"
    }
   ],
   "source": [
    "# importando los datos\n",
    "# jugadores de las selecciones \n",
    "equipos = pd.read_csv('selecciones.csv', index_col=0, encoding='latin-1', sep=\";\")\n",
    "\n",
    "# completando el overall de jugadores faltantes\n",
    "equipos['Overall'] = equipos['Overall'].fillna(65)\n",
    "\n",
    "# Historial de partidos entre las selecciones\n",
    "partidos = pd.read_csv('partidos.csv', index_col=0, encoding='latin-1', sep=\";\")\n",
    "\n",
    "# Grupos Copa América Brasil 2019\n",
    "copa = pd.read_csv('CopaAmerica.csv', index_col=0, encoding='latin-1', sep=\";\")\n",
    "copamuestra = copa[['equipo', 'grupo', 'titulos', 'subcampeonatos', 'ranking FIFA']]\n",
    "copamuestra"
   ]
  },
  {
   "cell_type": "markdown",
   "metadata": {},
   "source": [
    "Los datos estan tomados de las estadísticas de los jugadores del videojuego FIFA19 para determinar el talento general que le corresponde a cada selección y ese número se ve reflejado en la columna Overall del dataset de equipos. Vamos a agregar ese dato a los dataset de partidos y de copa para facilitar el acceso a ese dato."
   ]
  },
  {
   "cell_type": "code",
   "execution_count": 3,
   "metadata": {},
   "outputs": [],
   "source": [
    "# Agregando el pontencial del equipo al dataset de partidos\n",
    "potencial = equipos.groupby('selección').mean()['Overall']\n",
    "partidos = partidos.merge(potencial, \n",
    "                        left_on=['local'], \n",
    "                        right_on=['selección'])\n",
    "partidos = partidos.merge(potencial, \n",
    "                        left_on=['visitante'], \n",
    "                        right_on=['selección'], \n",
    "                        suffixes=('_local', '_visitante'))\n",
    "\n",
    "# Agregar diferencia de potencial entre los equipos\n",
    "partidos['dif_potencial'] = partidos['Overall_local'] - partidos['Overall_visitante']\n",
    "\n",
    "# Agregando el pontencial del equipo al dataset de copa\n",
    "copa = copa.merge(potencial, \n",
    "                        left_on=['equipo'], \n",
    "                        right_on=['selección'])\n",
    "copa = copa.set_index(['equipo'])"
   ]
  },
  {
   "cell_type": "code",
   "execution_count": 4,
   "metadata": {},
   "outputs": [
    {
     "data": {
      "image/png": "[encoded data removed]",
      "text/plain": [
       "<Figure size 432x288 with 1 Axes>"
      ]
     },
     "metadata": {
      "needs_background": "light"
     },
     "output_type": "display_data"
    }
   ],
   "source": [
    "# Graficando el potencial de cada seleccion\n",
    "# de acuerdo a la jerarquía (media) de sus jugadores\n",
    "plot = potencial.sort_values( ascending=False).plot(kind='bar')"
   ]
  },
  {
   "cell_type": "markdown",
   "metadata": {},
   "source": [
    "Como vemos en este gráfico...los grandes candidatos de acuerdo a la calidad de sus jugadores son Brasil, Argentina y Uruguay..ahora armemos el modelo"
   ]
  },
  {
   "cell_type": "markdown",
   "metadata": {},
   "source": [
    "## Modelo"
   ]
  },
  {
   "cell_type": "code",
   "execution_count": 5,
   "metadata": {},
   "outputs": [
    {
     "data": {
      "image/png": "[encoded data removed]",
      "text/plain": [
       "<Figure size 1080x360 with 3 Axes>"
      ]
     },
     "metadata": {
      "needs_background": "light"
     },
     "output_type": "display_data"
    }
   ],
   "source": [
    "# Armado del modelo de regresión lineal para predecir los resultados\n",
    "# los predictores a utilizar seran la diferencia del ranking fifa y el potencial\n",
    "# de los jugadores de las selecciones\n",
    "\n",
    "X, y = partidos.loc[:,['ranking_local', 'dif_ranking', 'dif_potencial']], partidos['gana_local']\n",
    "X_train, X_test, y_train, y_test = train_test_split(\n",
    "    X, y, test_size=0.2, random_state=42)\n",
    "\n",
    "logreg = linear_model.LogisticRegression(solver='lbfgs', C=1e-5)\n",
    "features = PolynomialFeatures(degree=2)\n",
    "model = Pipeline([\n",
    "    ('polynomial_features', features),\n",
    "    ('logistic_regression', logreg)\n",
    "])\n",
    "model = model.fit(X_train, y_train)\n",
    "\n",
    "# Graficos \n",
    "fpr, tpr, _ = roc_curve(y_test, model.predict_proba(X_test)[:,1])\n",
    "plt.figure(figsize=(15,5))\n",
    "ax = plt.subplot(1,3,1)\n",
    "ax.plot([0, 1], [0, 1], 'k--')\n",
    "ax.plot(fpr, tpr)\n",
    "ax.set_title('AUC score es {0:0.2}'.format(roc_auc_score(y_test, model.predict_proba(X_test)[:,1])))\n",
    "ax.set_aspect(1)\n",
    "\n",
    "ax = plt.subplot(1,3,2)\n",
    "cm = confusion_matrix(y_test, model.predict(X_test))\n",
    "ax.imshow(cm, cmap='Blues', clim = (0, cm.max())) \n",
    "\n",
    "ax.set_xlabel('Predicción')\n",
    "ax.set_title('Performance en el Test set')\n",
    "\n",
    "ax = plt.subplot(1,3,3)\n",
    "cm = confusion_matrix(y_train, model.predict(X_train))\n",
    "ax.imshow(cm, cmap='Blues', clim = (0, cm.max())) \n",
    "ax.set_xlabel('Predicción')\n",
    "ax.set_title('Performance en el Training set')\n",
    "plot = plt.show()"
   ]
  },
  {
   "cell_type": "markdown",
   "metadata": {},
   "source": [
    "El modelo tiene una precisión del 72% no es un gran resultado...pero es decente teniendo en cuenta que los resultados del futbol no se caracterizan por ser fáciles de predecir.\n",
    "\n",
    "continuemos ahora con la simulación de la fase de grupos"
   ]
  },
  {
   "cell_type": "markdown",
   "metadata": {},
   "source": [
    "## Simulación de fase de grupos"
   ]
  },
  {
   "cell_type": "code",
   "execution_count": 6,
   "metadata": {},
   "outputs": [
    {
     "name": "stdout",
     "output_type": "stream",
     "text": [
      "___Grupo A:___\n",
      "Brasil vs. Bolivia: Brasil gana con prob de 0.785\n",
      "Brasil vs. Venezuela: Brasil gana con prob de 0.622\n",
      "Brasil vs. Peru: Brasil gana con prob de 0.591\n",
      "Bolivia vs. Venezuela: Venezuela gana con prob de 0.639\n",
      "Bolivia vs. Peru: Peru gana con prob de 0.667\n",
      "Venezuela vs. Peru: empatan\n",
      "___Grupo B:___\n",
      "Argentina vs. Colombia: empatan\n",
      "Argentina vs. Paraguay: Argentina gana con prob de 0.637\n",
      "Argentina vs. Qatar: Argentina gana con prob de 0.765\n",
      "Colombia vs. Paraguay: Colombia gana con prob de 0.573\n",
      "Colombia vs. Qatar: Colombia gana con prob de 0.687\n",
      "Paraguay vs. Qatar: Paraguay gana con prob de 0.655\n",
      "___Grupo C:___\n",
      "Uruguay vs. Ecuador: Uruguay gana con prob de 0.681\n",
      "Uruguay vs. Japon: Uruguay gana con prob de 0.623\n",
      "Uruguay vs. Chile: empatan\n",
      "Ecuador vs. Japon: empatan\n",
      "Ecuador vs. Chile: Chile gana con prob de 0.675\n",
      "Japon vs. Chile: Chile gana con prob de 0.586\n"
     ]
    }
   ],
   "source": [
    "# Simulando los partidos de la fase de grupos\n",
    "from itertools import combinations\n",
    "\n",
    "# margen de error para definir empate en casos parejos\n",
    "margin = 0.05\n",
    "\n",
    "copa['puntos'] = 0\n",
    "copa['total_prob'] = 0\n",
    "\n",
    "for grupo in sorted(set(copa['grupo'])):\n",
    "    print('___Grupo {}:___'.format(grupo))\n",
    "    for local, visitante in combinations(copa.query('grupo == \"{}\"'.format(grupo)).index, 2):\n",
    "        print(\"{} vs. {}: \".format(local, visitante), end='')\n",
    "        row = pd.DataFrame(np.array([[np.nan, np.nan, np.nan]]), columns=X_test.columns)\n",
    "        row['ranking_local'] = copa.loc[local, 'ranking FIFA']\n",
    "        opp_rank = copa.loc[visitante, 'ranking FIFA']\n",
    "        local_pot = copa.loc[local, 'Overall']\n",
    "        opp_pot = copa.loc[visitante, 'Overall']\n",
    "        row['dif_ranking'] = row['ranking_local'] - opp_rank \n",
    "        row['dif_potencial'] = local_pot - opp_pot  \n",
    "        local_win_prob = model.predict_proba(row)[:,1][0]\n",
    "        copa.loc[local, 'total_prob'] += local_win_prob\n",
    "        copa.loc[visitante, 'total_prob'] += 1-local_win_prob\n",
    "        \n",
    "        # Asignando los puntos en a los equipos en el grupo\n",
    "        points = 0\n",
    "        if local_win_prob <= 0.5 - margin:\n",
    "            print(\"{} gana con prob de {:.3f}\".format(visitante, 1-local_win_prob))\n",
    "            copa.loc[visitante, 'puntos'] += 3\n",
    "        if local_win_prob > 0.5 - margin:\n",
    "            points = 1\n",
    "        if local_win_prob >= 0.5 + margin:\n",
    "            points = 3\n",
    "            copa.loc[local, 'puntos'] += 3\n",
    "            print(\"{} gana con prob de {:.3f}\".format(local, local_win_prob))\n",
    "        if points == 1:\n",
    "            print(\"empatan\")\n",
    "            copa.loc[local, 'puntos'] += 1\n",
    "            copa.loc[visitante, 'puntos'] += 1"
   ]
  },
  {
   "cell_type": "code",
   "execution_count": 7,
   "metadata": {},
   "outputs": [],
   "source": [
    "# ver posiciones de grupos\n",
    "copa = copa.sort_values(by=['grupo', 'puntos', 'total_prob'], ascending=[True, False, False]).reset_index()"
   ]
  },
  {
   "cell_type": "code",
   "execution_count": 8,
   "metadata": {},
   "outputs": [
    {
     "data": {
      "text/html": [
       "<div>\n",
       "<style scoped>\n",
       "    .dataframe tbody tr th:only-of-type {\n",
       "        vertical-align: middle;\n",
       "    }\n",
       "\n",
       "    .dataframe tbody tr th {\n",
       "        vertical-align: top;\n",
       "    }\n",
       "\n",
       "    .dataframe thead th {\n",
       "        text-align: right;\n",
       "    }\n",
       "</style>\n",
       "<table border=\"1\" class=\"dataframe\">\n",
       "  <thead>\n",
       "    <tr style=\"text-align: right;\">\n",
       "      <th></th>\n",
       "      <th>grupo</th>\n",
       "      <th>equipo</th>\n",
       "      <th>puntos</th>\n",
       "    </tr>\n",
       "  </thead>\n",
       "  <tbody>\n",
       "    <tr>\n",
       "      <th>0</th>\n",
       "      <td>A</td>\n",
       "      <td>Brasil</td>\n",
       "      <td>9</td>\n",
       "    </tr>\n",
       "    <tr>\n",
       "      <th>1</th>\n",
       "      <td>A</td>\n",
       "      <td>Peru</td>\n",
       "      <td>4</td>\n",
       "    </tr>\n",
       "    <tr>\n",
       "      <th>2</th>\n",
       "      <td>A</td>\n",
       "      <td>Venezuela</td>\n",
       "      <td>4</td>\n",
       "    </tr>\n",
       "    <tr>\n",
       "      <th>3</th>\n",
       "      <td>B</td>\n",
       "      <td>Argentina</td>\n",
       "      <td>7</td>\n",
       "    </tr>\n",
       "    <tr>\n",
       "      <th>4</th>\n",
       "      <td>B</td>\n",
       "      <td>Colombia</td>\n",
       "      <td>7</td>\n",
       "    </tr>\n",
       "    <tr>\n",
       "      <th>5</th>\n",
       "      <td>B</td>\n",
       "      <td>Paraguay</td>\n",
       "      <td>3</td>\n",
       "    </tr>\n",
       "    <tr>\n",
       "      <th>6</th>\n",
       "      <td>C</td>\n",
       "      <td>Uruguay</td>\n",
       "      <td>7</td>\n",
       "    </tr>\n",
       "    <tr>\n",
       "      <th>7</th>\n",
       "      <td>C</td>\n",
       "      <td>Chile</td>\n",
       "      <td>7</td>\n",
       "    </tr>\n",
       "    <tr>\n",
       "      <th>8</th>\n",
       "      <td>C</td>\n",
       "      <td>Japon</td>\n",
       "      <td>1</td>\n",
       "    </tr>\n",
       "  </tbody>\n",
       "</table>\n",
       "</div>"
      ],
      "text/plain": [
       "  grupo     equipo  puntos\n",
       "0     A     Brasil       9\n",
       "1     A       Peru       4\n",
       "2     A  Venezuela       4\n",
       "3     B  Argentina       7\n",
       "4     B   Colombia       7\n",
       "5     B   Paraguay       3\n",
       "6     C    Uruguay       7\n",
       "7     C      Chile       7\n",
       "8     C      Japon       1"
      ]
     },
     "execution_count": 8,
     "metadata": {},
     "output_type": "execute_result"
    }
   ],
   "source": [
    "# Seleccionar quienes pasan de ronda\n",
    "next_round = copa.groupby('grupo').nth([0, 1, 2]).reset_index() # primeros 3\n",
    "next_round[['grupo','equipo', 'puntos']]"
   ]
  },
  {
   "cell_type": "markdown",
   "metadata": {},
   "source": [
    "Ahora que ya tenemos las predicciones de quienes superarán la primera fase y continuarán compitiendo para ganar la copa. A continuacion simularemos la fase final y veremos quien se convierte en campeón!\n",
    "\n",
    "## Simulando fase final"
   ]
  },
  {
   "cell_type": "code",
   "execution_count": 9,
   "metadata": {},
   "outputs": [],
   "source": [
    "# Armo los cruces...el peor 3ro queda afuera de cuartos\n",
    "cruces = [0,6,1,4,3,7,5,2]\n",
    "\n",
    "next_round = next_round.loc[cruces]\n",
    "next_round = next_round.set_index('equipo')"
   ]
  },
  {
   "cell_type": "code",
   "execution_count": 10,
   "metadata": {},
   "outputs": [
    {
     "name": "stdout",
     "output_type": "stream",
     "text": [
      "___Ronda cuartos de final___\n",
      "Brasil vs. Uruguay: Brasil gana con prob de 0.512\n",
      "Peru vs. Colombia: Colombia gana con prob de 0.540\n",
      "Argentina vs. Chile: Argentina gana con prob de 0.532\n",
      "Paraguay vs. Venezuela: Venezuela gana con prob de 0.503\n",
      "\n",
      "\n",
      "___Ronda semifinal___\n",
      "Brasil vs. Colombia: Brasil gana con prob de 0.541\n",
      "Argentina vs. Venezuela: Argentina gana con prob de 0.616\n",
      "\n",
      "\n",
      "___Ronda final___\n",
      "Brasil vs. Argentina: Brasil gana con prob de 0.513\n",
      "\n",
      "\n"
     ]
    }
   ],
   "source": [
    "# Simulo rondas finales\n",
    "finales = ['cuartos de final', 'semifinal', 'final']\n",
    "\n",
    "copa = copa.set_index(['equipo'])\n",
    "\n",
    "for f in finales:\n",
    "    print(\"___Ronda {}___\".format(f))\n",
    "    iterations = int(len(next_round) / 2)\n",
    "    winners = []\n",
    "\n",
    "    for i in range(iterations):\n",
    "        local = next_round.index[i*2]\n",
    "        visitante = next_round.index[i*2+1]\n",
    "        print(\"{} vs. {}: \".format(local,\n",
    "                                   visitante), \n",
    "                                   end='')\n",
    "        row = pd.DataFrame(np.array([[np.nan, np.nan, np.nan]]), columns=X_test.columns)\n",
    "        row['ranking_local'] = copa.loc[local, 'ranking FIFA']\n",
    "        opp_rank = copa.loc[visitante, 'ranking FIFA']\n",
    "        local_pot = copa.loc[local, 'Overall']\n",
    "        opp_pot = copa.loc[visitante, 'Overall']\n",
    "        row['dif_ranking'] = row['ranking_local'] - opp_rank \n",
    "        row['dif_potencial'] = local_pot - opp_pot  \n",
    "        local_win_prob = model.predict_proba(row)[:,1][0]\n",
    "        copa.loc[local, 'total_prob'] += local_win_prob\n",
    "        copa.loc[visitante, 'total_prob'] += 1-local_win_prob\n",
    "\n",
    "        local_win_prob = model.predict_proba(row)[:,1][0]\n",
    "        if model.predict_proba(row)[:,1] <= 0.5:\n",
    "            print(\"{0} gana con prob de {1:.3f}\".format(visitante, 1-local_win_prob))\n",
    "            winners.append(visitante)\n",
    "        else:\n",
    "            print(\"{0} gana con prob de {1:.3f}\".format(local, local_win_prob))\n",
    "            winners.append(local)\n",
    "                \n",
    "    next_round = next_round.loc[winners]\n",
    "    print(\"\\n\")"
   ]
  },
  {
   "cell_type": "markdown",
   "metadata": {},
   "source": [
    "Bueno aca como podemos ver nos la la prediccion que va a ganar brasil ya que tiene sentido por la calidad de jugadores que tiene en ese año tomando las medias del fifa 19. Si queremos obtener otros resultados podemos cambiar los cruces como tambien modificar el dataset ya sea actualizandolo como creando uno nuevo."
   ]
  }
 ],
 "metadata": {
  "kernelspec": {
   "display_name": "Python 3",
   "language": "python",
   "name": "python3"
  },
  "language_info": {
   "codemirror_mode": {
    "name": "ipython",
    "version": 3
   },
   "file_extension": ".py",
   "mimetype": "text/x-python",
   "name": "python",
   "nbconvert_exporter": "python",
   "pygments_lexer": "ipython3",
   "version": "3.8.5"
  }
 },
 "nbformat": 4,
 "nbformat_minor": 4
}
